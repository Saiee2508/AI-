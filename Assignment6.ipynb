{
  "nbformat": 4,
  "nbformat_minor": 0,
  "metadata": {
    "colab": {
      "provenance": [],
      "authorship_tag": "ABX9TyNkkGiExnCs9iUdbKp25wTY",
      "include_colab_link": true
    },
    "kernelspec": {
      "name": "python3",
      "display_name": "Python 3"
    },
    "language_info": {
      "name": "python"
    }
  },
  "cells": [
    {
      "cell_type": "markdown",
      "metadata": {
        "id": "view-in-github",
        "colab_type": "text"
      },
      "source": [
        "<a href=\"https://colab.research.google.com/github/Saiee2508/AI-/blob/main/Assignment6.ipynb\" target=\"_parent\"><img src=\"https://colab.research.google.com/assets/colab-badge.svg\" alt=\"Open In Colab\"/></a>"
      ]
    },
    {
      "cell_type": "code",
      "execution_count": 8,
      "metadata": {
        "colab": {
          "base_uri": "https://localhost:8080/"
        },
        "id": "jwGKUhGlQ5rs",
        "outputId": "f63d23be-029b-48f0-af0a-76783f584f0b"
      },
      "outputs": [
        {
          "output_type": "stream",
          "name": "stdout",
          "text": [
            "Q . . . . . . .\n",
            ". . . . Q . . .\n",
            ". . . . . . . Q\n",
            ". . . . . Q . .\n",
            ". . Q . . . . .\n",
            ". . . . . . Q .\n",
            ". Q . . . . . .\n",
            ". . . Q . . . .\n",
            "\n"
          ]
        },
        {
          "output_type": "execute_result",
          "data": {
            "text/plain": [
              "True"
            ]
          },
          "metadata": {},
          "execution_count": 8
        }
      ],
      "source": [
        "def is_safe(board, row, col):\n",
        "    # Check the column\n",
        "    for i in range(row):\n",
        "        if board[i] == col:\n",
        "            return False\n",
        "\n",
        "    # Check the left diagonal\n",
        "    for i, j in zip(range(row - 1, -1, -1), range(col - 1, -1, -1)):\n",
        "        if board[i] == j:\n",
        "            return False\n",
        "\n",
        "    # Check the right diagonal\n",
        "    for i, j in zip(range(row - 1, -1, -1), range(col + 1, len(board))):\n",
        "        if board[i] == j:\n",
        "            return False\n",
        "\n",
        "    return True\n",
        "\n",
        "def solve_8_queens(board, row=0):\n",
        "    if row == len(board):\n",
        "        print_board(board)\n",
        "        return True  # Stop after the first solution\n",
        "\n",
        "    for col in range(len(board)):\n",
        "        if is_safe(board, row, col):\n",
        "            board[row] = col  # Place the queen\n",
        "            if solve_8_queens(board, row + 1):  # Recur to the next row\n",
        "                return True\n",
        "            board[row] = -1  # Backtrack\n",
        "\n",
        "    return False\n",
        "\n",
        "def print_board(board):\n",
        "    for row in board:\n",
        "        print(' '.join('Q' if col == row else '.' for col in range(len(board))))\n",
        "    print()\n",
        "\n",
        "# Initialize the board\n",
        "n = 8\n",
        "board = [-1] * n\n",
        "solve_8_queens(board)\n"
      ]
    }
  ]
}