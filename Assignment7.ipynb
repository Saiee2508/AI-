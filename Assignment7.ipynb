{
  "nbformat": 4,
  "nbformat_minor": 0,
  "metadata": {
    "colab": {
      "provenance": [],
      "authorship_tag": "ABX9TyM3ge6jhedX+HQDxUSuY/Ny",
      "include_colab_link": true
    },
    "kernelspec": {
      "name": "python3",
      "display_name": "Python 3"
    },
    "language_info": {
      "name": "python"
    }
  },
  "cells": [
    {
      "cell_type": "markdown",
      "metadata": {
        "id": "view-in-github",
        "colab_type": "text"
      },
      "source": [
        "<a href=\"https://colab.research.google.com/github/Saiee2508/AI-/blob/main/Assignment7.ipynb\" target=\"_parent\"><img src=\"https://colab.research.google.com/assets/colab-badge.svg\" alt=\"Open In Colab\"/></a>"
      ]
    },
    {
      "cell_type": "code",
      "execution_count": 10,
      "metadata": {
        "colab": {
          "base_uri": "https://localhost:8080/"
        },
        "id": "jwGKUhGlQ5rs",
        "outputId": "ac238105-8c32-4219-d124-a0bb4f709231"
      },
      "outputs": [
        {
          "output_type": "stream",
          "name": "stdout",
          "text": [
            "Inferred: Wet\n",
            "Inferred: Dry\n",
            "\n",
            "Final Inferred Facts: {'Dry', 'Wet', 'Umbrella', 'Rain'}\n"
          ]
        }
      ],
      "source": [
        "def forward_chaining(facts, rules):\n",
        "    inferred = set(facts)  # Set of known facts\n",
        "    applied_rules = set()   # Keep track of used rules\n",
        "\n",
        "    while True:\n",
        "        applied = False\n",
        "\n",
        "        for rule, conclusion in rules:\n",
        "            if rule.issubset(inferred) and conclusion not in inferred:\n",
        "                inferred.add(conclusion)\n",
        "                # Store the rule as a tuple for tracking\n",
        "                applied_rules.add((tuple(rule), conclusion))\n",
        "                print(f\"Inferred: {conclusion}\")\n",
        "                applied = True\n",
        "\n",
        "        if not applied:\n",
        "            break  # No more rules can be applied\n",
        "\n",
        "    return inferred\n",
        "\n",
        "# Define the facts and rules\n",
        "initial_facts = {\"Rain\", \"Umbrella\"}\n",
        "rules = [\n",
        "    ({\"Rain\"}, \"Wet\"),              # Rule 1: If Rain, then Wet\n",
        "    ({\"Wet\", \"Umbrella\"}, \"Dry\")     # Rule 2: If Wet and Umbrella, then Dry\n",
        "]\n",
        "\n",
        "# Run the Forward Chaining algorithm\n",
        "final_facts = forward_chaining(initial_facts, rules)\n",
        "print(\"\\nFinal Inferred Facts:\", final_facts)\n"
      ]
    }
  ]
}