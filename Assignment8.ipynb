{
  "nbformat": 4,
  "nbformat_minor": 0,
  "metadata": {
    "colab": {
      "provenance": [],
      "authorship_tag": "ABX9TyPSrL+Efa2fDboLm+N5XlnD",
      "include_colab_link": true
    },
    "kernelspec": {
      "name": "python3",
      "display_name": "Python 3"
    },
    "language_info": {
      "name": "python"
    }
  },
  "cells": [
    {
      "cell_type": "markdown",
      "metadata": {
        "id": "view-in-github",
        "colab_type": "text"
      },
      "source": [
        "<a href=\"https://colab.research.google.com/github/Saiee2508/AI-/blob/main/Assignment8.ipynb\" target=\"_parent\"><img src=\"https://colab.research.google.com/assets/colab-badge.svg\" alt=\"Open In Colab\"/></a>"
      ]
    },
    {
      "cell_type": "code",
      "execution_count": 11,
      "metadata": {
        "colab": {
          "base_uri": "https://localhost:8080/"
        },
        "id": "jwGKUhGlQ5rs",
        "outputId": "c25dfd0b-15d2-4f83-ca0b-2334e438c89c"
      },
      "outputs": [
        {
          "output_type": "stream",
          "name": "stdout",
          "text": [
            "Trying to satisfy the goal 'Dry' with rule: {'Wet', 'Umbrella'} -> Dry\n",
            "Trying to satisfy the goal 'Wet' with rule: {'Rain'} -> Wet\n",
            "Goal 'Rain' is a known fact.\n",
            "Goal 'Umbrella' is a known fact.\n",
            "\n",
            "Goal 'Dry' is achieved!\n"
          ]
        }
      ],
      "source": [
        "def backward_chaining(goal, facts, rules, visited=None):\n",
        "    if visited is None:\n",
        "        visited = set()  # Track visited goals to avoid infinite loops\n",
        "\n",
        "    # Check if the goal is already a known fact\n",
        "    if goal in facts:\n",
        "        print(f\"Goal '{goal}' is a known fact.\")\n",
        "        return True\n",
        "\n",
        "    # Avoid cycles in recursive search\n",
        "    if goal in visited:\n",
        "        print(f\"Already visited '{goal}', avoiding infinite recursion.\")\n",
        "        return False\n",
        "\n",
        "    visited.add(goal)  # Mark the goal as visited\n",
        "\n",
        "    # Search for rules that conclude the goal\n",
        "    for premises, conclusion in rules:\n",
        "        if conclusion == goal:\n",
        "            print(f\"Trying to satisfy the goal '{goal}' with rule: {premises} -> {goal}\")\n",
        "            # Recursively check if all premises are satisfied\n",
        "            if all(backward_chaining(premise, facts, rules, visited) for premise in premises):\n",
        "                return True\n",
        "\n",
        "    # If no rule or fact can satisfy the goal, it fails\n",
        "    print(f\"Goal '{goal}' cannot be satisfied.\")\n",
        "    return False\n",
        "\n",
        "# Define the facts and rules\n",
        "facts = {\"Rain\", \"Umbrella\"}\n",
        "rules = [\n",
        "    ({\"Rain\"}, \"Wet\"),              # Rule 1: If Rain, then Wet\n",
        "    ({\"Wet\", \"Umbrella\"}, \"Dry\")     # Rule 2: If Wet and Umbrella, then Dry\n",
        "]\n",
        "\n",
        "# Define the goal\n",
        "goal = \"Dry\"\n",
        "\n",
        "# Run the Backward Chaining algorithm\n",
        "if backward_chaining(goal, facts, rules):\n",
        "    print(f\"\\nGoal '{goal}' is achieved!\")\n",
        "else:\n",
        "    print(f\"\\nGoal '{goal}' is not achievable.\")\n"
      ]
    }
  ]
}