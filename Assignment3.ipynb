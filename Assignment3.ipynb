{
  "nbformat": 4,
  "nbformat_minor": 0,
  "metadata": {
    "colab": {
      "provenance": [],
      "authorship_tag": "ABX9TyNYUnrPjC8KgmpF/8ETVZI8",
      "include_colab_link": true
    },
    "kernelspec": {
      "name": "python3",
      "display_name": "Python 3"
    },
    "language_info": {
      "name": "python"
    }
  },
  "cells": [
    {
      "cell_type": "markdown",
      "metadata": {
        "id": "view-in-github",
        "colab_type": "text"
      },
      "source": [
        "<a href=\"https://colab.research.google.com/github/Saiee2508/AI-/blob/main/Assignment3.ipynb\" target=\"_parent\"><img src=\"https://colab.research.google.com/assets/colab-badge.svg\" alt=\"Open In Colab\"/></a>"
      ]
    },
    {
      "cell_type": "code",
      "execution_count": null,
      "metadata": {
        "colab": {
          "base_uri": "https://localhost:8080/"
        },
        "id": "fwc3TCt5GZxs",
        "outputId": "f2ff6d75-4c25-48fc-d2a4-d641fb242747"
      },
      "outputs": [
        {
          "output_type": "stream",
          "name": "stdout",
          "text": [
            "Parents of Aarav: ['Raj', 'Priya']\n",
            "Children of Aarav: No children found\n",
            "Spouse of Aarav: No spouse found\n",
            "Siblings of Aarav: ['Ananya']\n",
            "Grandparents of Aarav: ['n', 'N', 's', 'f', 't', 'Sunita', 'd', 'o', 'a', ' ', 'p', 'e', 'u', 'r', 'Anil']\n"
          ]
        }
      ],
      "source": [
        "# Sample knowledge base: family members and their relationships\n",
        "family_tree = {\n",
        "    \"Raj\": {\"parent\": [\"Anil\", \"Sunita\"], \"spouse\": \"Priya\", \"children\": [\"Aarav\", \"Ananya\"]},\n",
        "    \"Anil\": {\"spouse\": \"Sunita\", \"children\": [\"Raj\"]},\n",
        "    \"Sunita\": {\"spouse\": \"Anil\", \"children\": [\"Raj\"]},\n",
        "    \"Priya\": {\"spouse\": \"Raj\", \"children\": [\"Aarav\", \"Ananya\"]},\n",
        "    \"Aarav\": {\"parent\": [\"Raj\", \"Priya\"]},\n",
        "    \"Ananya\": {\"parent\": [\"Raj\", \"Priya\"]},\n",
        "}\n",
        "\n",
        "# Function to find parents of a person\n",
        "def find_parents(person):\n",
        "    if person in family_tree and \"parent\" in family_tree[person]:\n",
        "        return family_tree[person][\"parent\"]\n",
        "    return \"No parents found\"\n",
        "\n",
        "# Function to find children of a person\n",
        "def find_children(person):\n",
        "    if person in family_tree and \"children\" in family_tree[person]:\n",
        "        return family_tree[person][\"children\"]\n",
        "    return \"No children found\"\n",
        "\n",
        "# Function to find spouse of a person\n",
        "def find_spouse(person):\n",
        "    if person in family_tree and \"spouse\" in family_tree[person]:\n",
        "        return family_tree[person][\"spouse\"]\n",
        "    return \"No spouse found\"\n",
        "\n",
        "# Function to find siblings of a person\n",
        "def find_siblings(person):\n",
        "    parents = find_parents(person)\n",
        "    if isinstance(parents, list):\n",
        "        siblings = {sibling for parent in parents for sibling in find_children(parent)}\n",
        "        siblings.discard(person)\n",
        "        return list(siblings)\n",
        "    return \"No siblings found\"\n",
        "\n",
        "\n",
        "# Function to find grandparents of a person\n",
        "def find_grandparents(person):\n",
        "    parents = find_parents(person)\n",
        "    if isinstance(parents, list):\n",
        "        grandparents = {grandparent for parent in parents for grandparent in find_parents(parent)}\n",
        "        return list(grandparents)\n",
        "    return \"No grandparents found\"\n",
        "\n",
        "\n",
        "# Example queries using the parser functions\n",
        "def run_queries(person):\n",
        "    print(f\"Parents of {person}: {find_parents(person)}\")\n",
        "    print(f\"Children of {person}: {find_children(person)}\")\n",
        "    print(f\"Spouse of {person}: {find_spouse(person)}\")\n",
        "    print(f\"Siblings of {person}: {find_siblings(person)}\")\n",
        "    print(f\"Grandparents of {person}: {find_grandparents(person)}\")\n",
        "\n",
        "# Test the code with a person\n",
        "if __name__ == \"__main__\":\n",
        "    person = \"Aarav\"\n",
        "    run_queries(person)"
      ]
    }
  ]
}