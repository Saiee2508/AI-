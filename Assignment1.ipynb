{
  "nbformat": 4,
  "nbformat_minor": 0,
  "metadata": {
    "colab": {
      "provenance": [],
      "authorship_tag": "ABX9TyMyZixIpnM28+5k1PETuPco",
      "include_colab_link": true
    },
    "kernelspec": {
      "name": "python3",
      "display_name": "Python 3"
    },
    "language_info": {
      "name": "python"
    }
  },
  "cells": [
    {
      "cell_type": "markdown",
      "metadata": {
        "id": "view-in-github",
        "colab_type": "text"
      },
      "source": [
        "<a href=\"https://colab.research.google.com/github/Saiee2508/AI-/blob/main/Assignment1.ipynb\" target=\"_parent\"><img src=\"https://colab.research.google.com/assets/colab-badge.svg\" alt=\"Open In Colab\"/></a>"
      ]
    },
    {
      "cell_type": "code",
      "execution_count": 1,
      "metadata": {
        "id": "urMNKghjCyYB"
      },
      "outputs": [],
      "source": [
        "import numpy as np"
      ]
    },
    {
      "cell_type": "code",
      "source": [
        "def bfs(src, target):\n",
        "    queue = [src]    # Queue to explore nodes\n",
        "    visited = []     # Visited nodes\n",
        "\n",
        "    while queue:\n",
        "        state = queue.pop(0)\n",
        "        visited.append(state)\n",
        "\n",
        "        print_puzzle(state)\n",
        "\n",
        "        if state == target:\n",
        "            print(\"\\nSuccess! Goal state achieved!\")\n",
        "            return\n",
        "\n",
        "        # Get possible moves and append to queue if not visited\n",
        "        for move in possible_moves(state, visited):\n",
        "            if move not in visited and move not in queue:\n",
        "                queue.append(move)"
      ],
      "metadata": {
        "id": "_QCzrH0xC015"
      },
      "execution_count": 2,
      "outputs": []
    },
    {
      "cell_type": "code",
      "source": [
        "def possible_moves(state, visited):\n",
        "    b = state.index(0)  # Position of empty tile (0)\n",
        "    directions = []\n",
        "\n",
        "    if b > 2: directions.append('u')  # Move up\n",
        "    if b < 6: directions.append('d')  # Move down\n",
        "    if b % 3 > 0: directions.append('l')  # Move left\n",
        "    if b % 3 < 2: directions.append('r')  # Move right\n",
        "\n",
        "    return [gen(state, dir, b) for dir in directions if gen(state, dir, b) not in visited]"
      ],
      "metadata": {
        "id": "Nn4OCSdUDBjS"
      },
      "execution_count": 3,
      "outputs": []
    },
    {
      "cell_type": "code",
      "source": [
        "def gen(state, direction, b):\n",
        "    new_state = state.copy()\n",
        "    swaps = {'u': -3, 'd': 3, 'l': -1, 'r': 1}\n",
        "    new_b = b + swaps[direction]\n",
        "    new_state[b], new_state[new_b] = new_state[new_b], new_state[b]\n",
        "    return new_state"
      ],
      "metadata": {
        "id": "3sSTEwYGDLYd"
      },
      "execution_count": 4,
      "outputs": []
    },
    {
      "cell_type": "code",
      "source": [
        "def print_puzzle(state):\n",
        "    print(np.array(state).reshape(3, 3), \"\\n\")\n",
        "\n",
        "# Initial setup\n",
        "src = [1, 2, 3, 4, 5, 6, 0, 7, 8]\n",
        "target = [1, 2, 3, 4, 5, 6, 7, 8, 0]\n",
        "\n",
        "print(\"Initial state:\")\n",
        "print_puzzle(src)\n",
        "\n",
        "print(\"Goal state:\")\n",
        "print_puzzle(target)\n",
        "\n",
        "print(\"BFS solution:\")\n",
        "bfs(src, target)"
      ],
      "metadata": {
        "colab": {
          "base_uri": "https://localhost:8080/"
        },
        "id": "8fWWFF8GDQAI",
        "outputId": "ba82aba5-7de5-4ede-80d1-b69816cd5a0a"
      },
      "execution_count": 5,
      "outputs": [
        {
          "output_type": "stream",
          "name": "stdout",
          "text": [
            "Initial state:\n",
            "[[1 2 3]\n",
            " [4 5 6]\n",
            " [0 7 8]] \n",
            "\n",
            "Goal state:\n",
            "[[1 2 3]\n",
            " [4 5 6]\n",
            " [7 8 0]] \n",
            "\n",
            "BFS solution:\n",
            "[[1 2 3]\n",
            " [4 5 6]\n",
            " [0 7 8]] \n",
            "\n",
            "[[1 2 3]\n",
            " [0 5 6]\n",
            " [4 7 8]] \n",
            "\n",
            "[[1 2 3]\n",
            " [4 5 6]\n",
            " [7 0 8]] \n",
            "\n",
            "[[0 2 3]\n",
            " [1 5 6]\n",
            " [4 7 8]] \n",
            "\n",
            "[[1 2 3]\n",
            " [5 0 6]\n",
            " [4 7 8]] \n",
            "\n",
            "[[1 2 3]\n",
            " [4 0 6]\n",
            " [7 5 8]] \n",
            "\n",
            "[[1 2 3]\n",
            " [4 5 6]\n",
            " [7 8 0]] \n",
            "\n",
            "\n",
            "Success! Goal state achieved!\n"
          ]
        }
      ]
    }
  ]
}