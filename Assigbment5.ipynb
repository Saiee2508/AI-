{
  "nbformat": 4,
  "nbformat_minor": 0,
  "metadata": {
    "colab": {
      "provenance": [],
      "authorship_tag": "ABX9TyMU8OJEpKOAdlLc3WNYcud/",
      "include_colab_link": true
    },
    "kernelspec": {
      "name": "python3",
      "display_name": "Python 3"
    },
    "language_info": {
      "name": "python"
    }
  },
  "cells": [
    {
      "cell_type": "markdown",
      "metadata": {
        "id": "view-in-github",
        "colab_type": "text"
      },
      "source": [
        "<a href=\"https://colab.research.google.com/github/Saiee2508/AI-/blob/main/Assigbment5.ipynb\" target=\"_parent\"><img src=\"https://colab.research.google.com/assets/colab-badge.svg\" alt=\"Open In Colab\"/></a>"
      ]
    },
    {
      "cell_type": "code",
      "execution_count": 1,
      "metadata": {
        "id": "AlpR8CXDG0GN"
      },
      "outputs": [],
      "source": [
        "import numpy as np\n",
        "\n",
        "# Constants for players\n",
        "PLAYER_X = 1  # AI\n",
        "PLAYER_O = -1  # Human\n",
        "EMPTY = 0\n",
        "\n",
        "# Function to initialize the board\n",
        "def initialize_board():\n",
        "    return np.zeros((3, 3), dtype=int)\n",
        "\n",
        "# Function to check for a winner\n",
        "def check_winner(board):\n",
        "    for row in board:\n",
        "        if abs(sum(row)) == 3:\n",
        "            return np.sign(sum(row))\n",
        "\n",
        "    for col in board.T:\n",
        "        if abs(sum(col)) == 3:\n",
        "            return np.sign(sum(col))\n",
        "\n",
        "    if abs(sum(board.diagonal())) == 3:\n",
        "        return np.sign(sum(board.diagonal()))\n",
        "\n",
        "    if abs(sum(np.fliplr(board).diagonal())) == 3:\n",
        "        return np.sign(sum(np.fliplr(board).diagonal()))\n",
        "\n",
        "    return 0  # No winner\n",
        "\n",
        "# Function to check if the board is full\n",
        "def is_board_full(board):\n",
        "    return not np.any(board == EMPTY)\n"
      ]
    },
    {
      "cell_type": "code",
      "source": [
        "# Minimax function\n",
        "def minimax(board, depth, is_maximizing):\n",
        "    winner = check_winner(board)\n",
        "\n",
        "    if winner == PLAYER_X:\n",
        "        return 10 - depth  # AI wins\n",
        "    elif winner == PLAYER_O:\n",
        "        return depth - 10  # Human wins\n",
        "    elif is_board_full(board):\n",
        "        return 0  # Draw\n",
        "\n",
        "    if is_maximizing:\n",
        "        best_score = -np.inf\n",
        "        for row in range(3):\n",
        "            for col in range(3):\n",
        "                if board[row, col] == EMPTY:\n",
        "                    board[row, col] = PLAYER_X  # AI move\n",
        "                    score = minimax(board, depth + 1, False)\n",
        "                    board[row, col] = EMPTY  # Undo move\n",
        "                    best_score = max(best_score, score)\n",
        "        return best_score\n",
        "    else:\n",
        "        best_score = np.inf\n",
        "        for row in range(3):\n",
        "            for col in range(3):\n",
        "                if board[row, col] == EMPTY:\n",
        "                    board[row, col] = PLAYER_O  # Human move\n",
        "                    score = minimax(board, depth + 1, True)\n",
        "                    board[row, col] = EMPTY  # Undo move\n",
        "                    best_score = min(best_score, score)\n",
        "        return best_score\n"
      ],
      "metadata": {
        "id": "M8Sw4FRpG26k"
      },
      "execution_count": 2,
      "outputs": []
    },
    {
      "cell_type": "code",
      "source": [
        "def find_best_move(board):\n",
        "    best_score = -np.inf\n",
        "    best_move = (-1, -1)\n",
        "\n",
        "    for row in range(3):\n",
        "        for col in range(3):\n",
        "            if board[row, col] == EMPTY:\n",
        "                board[row, col] = PLAYER_X  # AI move\n",
        "                score = minimax(board, 0, False)\n",
        "                board[row, col] = EMPTY  # Undo move\n",
        "                if score > best_score:\n",
        "                    best_score = score\n",
        "                    best_move = (row, col)\n",
        "\n",
        "    return best_move\n"
      ],
      "metadata": {
        "id": "AK8Cwd9NG5a5"
      },
      "execution_count": 3,
      "outputs": []
    },
    {
      "cell_type": "code",
      "source": [
        "def play_game():\n",
        "    board = initialize_board()\n",
        "\n",
        "    while True:\n",
        "        print(board)\n",
        "\n",
        "        # Player's turn (Human)\n",
        "        row, col = map(int, input(\"Enter your move (row col): \").split())\n",
        "        if board[row, col] != EMPTY:\n",
        "            print(\"Invalid move. Try again.\")\n",
        "            continue\n",
        "        board[row, col] = PLAYER_O\n",
        "\n",
        "        if check_winner(board):\n",
        "            print(\"You win!\")\n",
        "            break\n",
        "\n",
        "        if is_board_full(board):\n",
        "            print(\"It's a draw!\")\n",
        "            break\n",
        "\n",
        "        # AI's turn (Minimax)\n",
        "        ai_move = find_best_move(board)\n",
        "        board[ai_move] = PLAYER_X\n",
        "\n",
        "        if check_winner(board):\n",
        "            print(\"AI wins!\")\n",
        "            break\n",
        "\n",
        "        if is_board_full(board):\n",
        "            print(\"It's a draw!\")\n",
        "            break\n",
        "\n",
        "play_game()"
      ],
      "metadata": {
        "colab": {
          "base_uri": "https://localhost:8080/"
        },
        "id": "EACvnLV4G7XX",
        "outputId": "8e81513e-3f82-4501-efac-1ecb1597d9e2"
      },
      "execution_count": null,
      "outputs": [
        {
          "output_type": "stream",
          "name": "stdout",
          "text": [
            "[[0 0 0]\n",
            " [0 0 0]\n",
            " [0 0 0]]\n",
            "Enter your move (row col): 0 0\n",
            "[[-1  0  0]\n",
            " [ 0  1  0]\n",
            " [ 0  0  0]]\n",
            "Enter your move (row col): 1 1 \n",
            "Invalid move. Try again.\n",
            "[[-1  0  0]\n",
            " [ 0  1  0]\n",
            " [ 0  0  0]]\n",
            "Enter your move (row col): 2 2 \n",
            "[[-1  1  0]\n",
            " [ 0  1  0]\n",
            " [ 0  0 -1]]\n",
            "Enter your move (row col): 2 1\n",
            "[[-1  1  0]\n",
            " [ 0  1  0]\n",
            " [ 1 -1 -1]]\n"
          ]
        }
      ]
    }
  ]
}